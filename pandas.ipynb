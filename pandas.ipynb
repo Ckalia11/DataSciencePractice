{
 "cells": [
  {
   "cell_type": "code",
   "execution_count": 92,
   "metadata": {},
   "outputs": [
    {
     "data": {
      "text/plain": [
       "0       chetan\n",
       "1       chetan\n",
       "2       chetan\n",
       "3       chetan\n",
       "4       chetan\n",
       "         ...  \n",
       "8119    chetan\n",
       "8120    chetan\n",
       "8121    chetan\n",
       "8122    chetan\n",
       "8123    chetan\n",
       "Name: gill-size, Length: 8124, dtype: object"
      ]
     },
     "execution_count": 92,
     "metadata": {},
     "output_type": "execute_result"
    }
   ],
   "source": [
    "import pandas as pd\n",
    "\n",
    "pd.Series([1,2,3], index = [\"c\", \"v\", 'f'], name = 'chetan')\n",
    "\n",
    "data = pd.DataFrame({\"name\":[19,20], \"age\": [19, 18]}, index = [\"f\", 'g'])\n",
    "\n",
    "data.name\n",
    "data['name']\n",
    "data.name[1]\n",
    "\n",
    "data = pd.read_csv(\"mushrooms.csv\")\n",
    "data.head()\n",
    "data.iloc[:,3:5]\n",
    "data.iloc[1:3,0]\n",
    "data.iloc[[1,3,5]]\n",
    "data.iloc[[1,3,5],-5:-2]\n",
    "data.loc[:, ['class']]\n",
    "data.iloc[:,0]\n",
    "data.loc[[1,3,5], ['cap-shape', 'cap-color']]\n",
    "#loc is different than iloc in indexing because it includes both starting and ending index\n",
    "data\n",
    "data.set_index(\"cap-color\")\n",
    "data[\"cap-shape\"] == 'x'\n",
    "data.loc[data[\"cap-shape\"] == 'x']\n",
    "data.loc[(data[\"cap-shape\"] == 'x') & (data.odor == \"p\")]\n",
    "data.loc[(data[\"cap-shape\"] == 'x') | (data.odor == \"p\")]\n",
    "\n",
    "data.loc[data.odor.isin(['p', 'a'])] \n",
    "\n",
    "data.loc[data.odor.notnull()] # gets all records not null as opposed to isnull\n",
    "\n",
    "data[\"gill-size\"] = \"chetan\"\n",
    "data[\"gill-size\"] # replaces all values with string chetan\n",
    "\n",
    "\n",
    "\n"
   ]
  }
 ],
 "metadata": {
  "kernelspec": {
   "display_name": "Python 3",
   "language": "python",
   "name": "python3"
  },
  "language_info": {
   "codemirror_mode": {
    "name": "ipython",
    "version": 3
   },
   "file_extension": ".py",
   "mimetype": "text/x-python",
   "name": "python",
   "nbconvert_exporter": "python",
   "pygments_lexer": "ipython3",
   "version": "3.7.5"
  }
 },
 "nbformat": 4,
 "nbformat_minor": 4
}
