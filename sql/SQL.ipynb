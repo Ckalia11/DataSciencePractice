{
 "cells": [
  {
   "cell_type": "code",
   "execution_count": 37,
   "metadata": {},
   "outputs": [],
   "source": [
    "from google.cloud import bigquery"
   ]
  },
  {
   "cell_type": "code",
   "execution_count": 39,
   "metadata": {},
   "outputs": [],
   "source": [
    "import os\n",
    "os.environ[\"GOOGLE_APPLICATION_CREDENTIALS\"]=r\"C:\\Users\\Chetan Kalia\\Downloads\\SQLpractice-d261ef42f720.json\""
   ]
  },
  {
   "cell_type": "code",
   "execution_count": 41,
   "metadata": {},
   "outputs": [],
   "source": [
    "client = bigquery.Client()"
   ]
  },
  {
   "cell_type": "code",
   "execution_count": 42,
   "metadata": {},
   "outputs": [],
   "source": [
    "dataset_ref = client.dataset(\"hacker_news\", project=\"bigquery-public-data\")\n",
    "\n",
    "# API request - fetch the dataset\n",
    "dataset = client.get_dataset(dataset_ref)"
   ]
  },
  {
   "cell_type": "code",
   "execution_count": 43,
   "metadata": {},
   "outputs": [
    {
     "name": "stdout",
     "output_type": "stream",
     "text": [
      "comments\n",
      "full\n",
      "full_201510\n",
      "stories\n"
     ]
    }
   ],
   "source": [
    "# List all the tables in the \"hacker_news\" dataset\n",
    "tables = list(client.list_tables(dataset))\n",
    "\n",
    "# Print names of all tables in the dataset (there are four!)\n",
    "for table in tables:  \n",
    "    print(table.table_id)\n"
   ]
  },
  {
   "cell_type": "code",
   "execution_count": 44,
   "metadata": {},
   "outputs": [],
   "source": [
    "# Construct a reference to the \"full\" table\n",
    "table_ref = dataset_ref.table(\"full\")\n",
    "\n",
    "# API request - fetch the table\n",
    "table = client.get_table(table_ref)"
   ]
  },
  {
   "cell_type": "code",
   "execution_count": 46,
   "metadata": {},
   "outputs": [
    {
     "data": {
      "text/plain": [
       "[SchemaField('title', 'STRING', 'NULLABLE', 'Story title', ()),\n",
       " SchemaField('url', 'STRING', 'NULLABLE', 'Story url', ()),\n",
       " SchemaField('text', 'STRING', 'NULLABLE', 'Story or comment text', ()),\n",
       " SchemaField('dead', 'BOOLEAN', 'NULLABLE', 'Is dead?', ()),\n",
       " SchemaField('by', 'STRING', 'NULLABLE', \"The username of the item's author.\", ()),\n",
       " SchemaField('score', 'INTEGER', 'NULLABLE', 'Story score', ()),\n",
       " SchemaField('time', 'INTEGER', 'NULLABLE', 'Unix time', ()),\n",
       " SchemaField('timestamp', 'TIMESTAMP', 'NULLABLE', 'Timestamp for the unix time', ()),\n",
       " SchemaField('type', 'STRING', 'NULLABLE', 'Type of details (comment, comment_ranking, poll, story, job, pollopt)', ()),\n",
       " SchemaField('id', 'INTEGER', 'NULLABLE', \"The item's unique id.\", ()),\n",
       " SchemaField('parent', 'INTEGER', 'NULLABLE', 'Parent comment ID', ()),\n",
       " SchemaField('descendants', 'INTEGER', 'NULLABLE', 'Number of story or poll descendants', ()),\n",
       " SchemaField('ranking', 'INTEGER', 'NULLABLE', 'Comment ranking', ()),\n",
       " SchemaField('deleted', 'BOOLEAN', 'NULLABLE', 'Is deleted?', ())]"
      ]
     },
     "execution_count": 46,
     "metadata": {},
     "output_type": "execute_result"
    }
   ],
   "source": [
    "# each column represented by a 'SchemaField' followed by 1. name of column, datatype in column, mode of column, column description\n",
    "table.schema"
   ]
  },
  {
   "cell_type": "code",
   "execution_count": 48,
   "metadata": {},
   "outputs": [
    {
     "data": {
      "text/html": [
       "<div>\n",
       "<style scoped>\n",
       "    .dataframe tbody tr th:only-of-type {\n",
       "        vertical-align: middle;\n",
       "    }\n",
       "\n",
       "    .dataframe tbody tr th {\n",
       "        vertical-align: top;\n",
       "    }\n",
       "\n",
       "    .dataframe thead th {\n",
       "        text-align: right;\n",
       "    }\n",
       "</style>\n",
       "<table border=\"1\" class=\"dataframe\">\n",
       "  <thead>\n",
       "    <tr style=\"text-align: right;\">\n",
       "      <th></th>\n",
       "      <th>title</th>\n",
       "      <th>url</th>\n",
       "      <th>text</th>\n",
       "      <th>dead</th>\n",
       "      <th>by</th>\n",
       "      <th>score</th>\n",
       "      <th>time</th>\n",
       "      <th>timestamp</th>\n",
       "      <th>type</th>\n",
       "      <th>id</th>\n",
       "      <th>parent</th>\n",
       "      <th>descendants</th>\n",
       "      <th>ranking</th>\n",
       "      <th>deleted</th>\n",
       "    </tr>\n",
       "  </thead>\n",
       "  <tbody>\n",
       "    <tr>\n",
       "      <th>0</th>\n",
       "      <td>Show HN: MusicMessages, a collaborative step s...</td>\n",
       "      <td>http://musicmessages.io</td>\n",
       "      <td>None</td>\n",
       "      <td>None</td>\n",
       "      <td>archagon</td>\n",
       "      <td>2.0</td>\n",
       "      <td>1480552559</td>\n",
       "      <td>2016-12-01 00:35:59+00:00</td>\n",
       "      <td>story</td>\n",
       "      <td>13076004</td>\n",
       "      <td>NaN</td>\n",
       "      <td>0.0</td>\n",
       "      <td>None</td>\n",
       "      <td>None</td>\n",
       "    </tr>\n",
       "    <tr>\n",
       "      <th>1</th>\n",
       "      <td>Net Results: Data centres need to power down t...</td>\n",
       "      <td>https://www.irishtimes.com/business/technology...</td>\n",
       "      <td>None</td>\n",
       "      <td>None</td>\n",
       "      <td>secfirstmd</td>\n",
       "      <td>1.0</td>\n",
       "      <td>1531423673</td>\n",
       "      <td>2018-07-12 19:27:53+00:00</td>\n",
       "      <td>story</td>\n",
       "      <td>17517813</td>\n",
       "      <td>NaN</td>\n",
       "      <td>0.0</td>\n",
       "      <td>None</td>\n",
       "      <td>None</td>\n",
       "    </tr>\n",
       "    <tr>\n",
       "      <th>2</th>\n",
       "      <td>None</td>\n",
       "      <td>None</td>\n",
       "      <td>This is just a pendulum swing. If you remember...</td>\n",
       "      <td>None</td>\n",
       "      <td>anovikov</td>\n",
       "      <td>NaN</td>\n",
       "      <td>1524159593</td>\n",
       "      <td>2018-04-19 17:39:53+00:00</td>\n",
       "      <td>comment</td>\n",
       "      <td>16878065</td>\n",
       "      <td>16877928.0</td>\n",
       "      <td>NaN</td>\n",
       "      <td>None</td>\n",
       "      <td>None</td>\n",
       "    </tr>\n",
       "    <tr>\n",
       "      <th>3</th>\n",
       "      <td>YouPy – YouTube for Jupyter Notebooks</td>\n",
       "      <td>None</td>\n",
       "      <td>View the Jupyter Notebooks of folks working at...</td>\n",
       "      <td>None</td>\n",
       "      <td>massens</td>\n",
       "      <td>6.0</td>\n",
       "      <td>1519396935</td>\n",
       "      <td>2018-02-23 14:42:15+00:00</td>\n",
       "      <td>story</td>\n",
       "      <td>16446532</td>\n",
       "      <td>NaN</td>\n",
       "      <td>5.0</td>\n",
       "      <td>None</td>\n",
       "      <td>None</td>\n",
       "    </tr>\n",
       "    <tr>\n",
       "      <th>4</th>\n",
       "      <td>None</td>\n",
       "      <td>None</td>\n",
       "      <td>It authenticates the domain of the sender, right?</td>\n",
       "      <td>None</td>\n",
       "      <td>alexchamberlain</td>\n",
       "      <td>NaN</td>\n",
       "      <td>1351089908</td>\n",
       "      <td>2012-10-24 14:45:08+00:00</td>\n",
       "      <td>comment</td>\n",
       "      <td>4693135</td>\n",
       "      <td>4692701.0</td>\n",
       "      <td>NaN</td>\n",
       "      <td>None</td>\n",
       "      <td>None</td>\n",
       "    </tr>\n",
       "  </tbody>\n",
       "</table>\n",
       "</div>"
      ],
      "text/plain": [
       "                                               title  \\\n",
       "0  Show HN: MusicMessages, a collaborative step s...   \n",
       "1  Net Results: Data centres need to power down t...   \n",
       "2                                               None   \n",
       "3              YouPy – YouTube for Jupyter Notebooks   \n",
       "4                                               None   \n",
       "\n",
       "                                                 url  \\\n",
       "0                            http://musicmessages.io   \n",
       "1  https://www.irishtimes.com/business/technology...   \n",
       "2                                               None   \n",
       "3                                               None   \n",
       "4                                               None   \n",
       "\n",
       "                                                text  dead               by  \\\n",
       "0                                               None  None         archagon   \n",
       "1                                               None  None       secfirstmd   \n",
       "2  This is just a pendulum swing. If you remember...  None         anovikov   \n",
       "3  View the Jupyter Notebooks of folks working at...  None          massens   \n",
       "4  It authenticates the domain of the sender, right?  None  alexchamberlain   \n",
       "\n",
       "   score        time                 timestamp     type        id      parent  \\\n",
       "0    2.0  1480552559 2016-12-01 00:35:59+00:00    story  13076004         NaN   \n",
       "1    1.0  1531423673 2018-07-12 19:27:53+00:00    story  17517813         NaN   \n",
       "2    NaN  1524159593 2018-04-19 17:39:53+00:00  comment  16878065  16877928.0   \n",
       "3    6.0  1519396935 2018-02-23 14:42:15+00:00    story  16446532         NaN   \n",
       "4    NaN  1351089908 2012-10-24 14:45:08+00:00  comment   4693135   4692701.0   \n",
       "\n",
       "   descendants ranking deleted  \n",
       "0          0.0    None    None  \n",
       "1          0.0    None    None  \n",
       "2          NaN    None    None  \n",
       "3          5.0    None    None  \n",
       "4          NaN    None    None  "
      ]
     },
     "execution_count": 48,
     "metadata": {},
     "output_type": "execute_result"
    }
   ],
   "source": [
    "# big query object converted to a pandas dataframe\n",
    "client.list_rows(table, max_results=5).to_dataframe()"
   ]
  },
  {
   "cell_type": "code",
   "execution_count": 49,
   "metadata": {},
   "outputs": [
    {
     "data": {
      "text/html": [
       "<div>\n",
       "<style scoped>\n",
       "    .dataframe tbody tr th:only-of-type {\n",
       "        vertical-align: middle;\n",
       "    }\n",
       "\n",
       "    .dataframe tbody tr th {\n",
       "        vertical-align: top;\n",
       "    }\n",
       "\n",
       "    .dataframe thead th {\n",
       "        text-align: right;\n",
       "    }\n",
       "</style>\n",
       "<table border=\"1\" class=\"dataframe\">\n",
       "  <thead>\n",
       "    <tr style=\"text-align: right;\">\n",
       "      <th></th>\n",
       "      <th>title</th>\n",
       "    </tr>\n",
       "  </thead>\n",
       "  <tbody>\n",
       "    <tr>\n",
       "      <th>0</th>\n",
       "      <td>Show HN: MusicMessages, a collaborative step s...</td>\n",
       "    </tr>\n",
       "    <tr>\n",
       "      <th>1</th>\n",
       "      <td>Net Results: Data centres need to power down t...</td>\n",
       "    </tr>\n",
       "    <tr>\n",
       "      <th>2</th>\n",
       "      <td>None</td>\n",
       "    </tr>\n",
       "    <tr>\n",
       "      <th>3</th>\n",
       "      <td>YouPy – YouTube for Jupyter Notebooks</td>\n",
       "    </tr>\n",
       "    <tr>\n",
       "      <th>4</th>\n",
       "      <td>None</td>\n",
       "    </tr>\n",
       "  </tbody>\n",
       "</table>\n",
       "</div>"
      ],
      "text/plain": [
       "                                               title\n",
       "0  Show HN: MusicMessages, a collaborative step s...\n",
       "1  Net Results: Data centres need to power down t...\n",
       "2                                               None\n",
       "3              YouPy – YouTube for Jupyter Notebooks\n",
       "4                                               None"
      ]
     },
     "execution_count": 49,
     "metadata": {},
     "output_type": "execute_result"
    }
   ],
   "source": [
    "# can select certain columns to view too\n",
    "client.list_rows(table, selected_fields=table.schema[:1], max_results=5).to_dataframe()"
   ]
  },
  {
   "cell_type": "code",
   "execution_count": null,
   "metadata": {},
   "outputs": [],
   "source": []
  }
 ],
 "metadata": {
  "kernelspec": {
   "display_name": "Python 3",
   "language": "python",
   "name": "python3"
  },
  "language_info": {
   "codemirror_mode": {
    "name": "ipython",
    "version": 3
   },
   "file_extension": ".py",
   "mimetype": "text/x-python",
   "name": "python",
   "nbconvert_exporter": "python",
   "pygments_lexer": "ipython3",
   "version": "3.7.5"
  }
 },
 "nbformat": 4,
 "nbformat_minor": 4
}
