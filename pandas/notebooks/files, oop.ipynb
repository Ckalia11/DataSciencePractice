{
 "cells": [
  {
   "cell_type": "code",
   "execution_count": 1,
   "metadata": {},
   "outputs": [
    {
     "name": "stdout",
     "output_type": "stream",
     "text": [
      "His name is chetan kalia and he is 19 years old and his GPA is 3.0\n",
      "Her name is rose mary and she is 19 years old and her GPA is 3.5\n",
      "His name is Ajay Var and he is 19 years old and his GPA is 3.0\n"
     ]
    }
   ],
   "source": [
    "class person:\n",
    "    def __init__(self, fname, age, lname, GPA):\n",
    "        self.fname = fname\n",
    "        self.age = age\n",
    "        self.lname = lname\n",
    "        self.GPA = GPA\n",
    "    def print_items(self, gender):\n",
    "        if gender == 'm':\n",
    "            print('His name is {} {} and he is {} years old and his GPA is {}'.format(self.fname, self.lname, self.age, self.GPA))\n",
    "        else:\n",
    "            print('Her name is {} {} and she is {} years old and her GPA is {}'.format(self.fname, self.lname, self.age, self.GPA))\n",
    "\n",
    "p1 = person('chetan', 19, 'kalia', '3.0')\n",
    "p2 = person('rose', 19, 'mary', '3.5')\n",
    "p1.print_items('m')\n",
    "p2.print_items('f')\n",
    "p1.fname = 'Ajay'\n",
    "p1.lname = 'Var'\n",
    "p1.print_items('m')\n"
   ]
  },
  {
   "cell_type": "code",
   "execution_count": 61,
   "metadata": {},
   "outputs": [
    {
     "data": {
      "text/plain": [
       "'the_only_reason_I_like_to_go_to_school_is_because_my_teacher_is_amazing'"
      ]
     },
     "execution_count": 61,
     "metadata": {},
     "output_type": "execute_result"
    }
   ],
   "source": [
    "s = 'the only reason I like to go to school is because my teacher is amazing'\n",
    "\"_\".join(s.split())"
   ]
  },
  {
   "cell_type": "code",
   "execution_count": 62,
   "metadata": {},
   "outputs": [
    {
     "name": "stdout",
     "output_type": "stream",
     "text": [
      "joey\n"
     ]
    }
   ],
   "source": [
    "def print_items(*obj):\n",
    "    print(obj[2])\n",
    "print_items('kyle', 'rose', 'joey')"
   ]
  },
  {
   "cell_type": "code",
   "execution_count": 63,
   "metadata": {},
   "outputs": [
    {
     "name": "stdout",
     "output_type": "stream",
     "text": [
      "{1: 10, 2: 9, 3: 8, 4: 7, 5: 6}\n",
      "10\n",
      "9\n",
      "8\n",
      "7\n",
      "6\n",
      "1 10\n",
      "2 9\n",
      "3 8\n",
      "4 7\n",
      "5 6\n",
      "1\n",
      "2\n",
      "3\n",
      "4\n",
      "5\n",
      "{1: 10, 2: 9, 3: 8, 4: 7, 5: 6, 6: 5}\n"
     ]
    }
   ],
   "source": [
    "lst = [1,2,3,4,5]\n",
    "s = {}\n",
    "counter = 10\n",
    "for i in lst:\n",
    "    s[i] = counter\n",
    "    counter = counter - 1\n",
    "print(s)\n",
    "for i in s.values():\n",
    "    print(i)\n",
    "for a, b in s.items():\n",
    "    print(a,b)\n",
    "for a in s.keys():\n",
    "    print(a)\n",
    "s[6] = 5\n",
    "print(s)\n",
    "\n"
   ]
  },
  {
   "cell_type": "code",
   "execution_count": 78,
   "metadata": {},
   "outputs": [
    {
     "data": {
      "text/plain": [
       "' I live in Canada'"
      ]
     },
     "execution_count": 78,
     "metadata": {},
     "output_type": "execute_result"
    }
   ],
   "source": [
    "o = open('testing.txt', 'r')\n",
    "o.read(17)"
   ]
  },
  {
   "cell_type": "code",
   "execution_count": 80,
   "metadata": {},
   "outputs": [
    {
     "data": {
      "text/plain": [
       "' I live in Canada'"
      ]
     },
     "execution_count": 80,
     "metadata": {},
     "output_type": "execute_result"
    }
   ],
   "source": [
    "o = open('testing.txt', 'w')\n",
    "o.write(' I live in Canada')\n",
    "o.close()\n",
    "\n",
    "o = open('testing.txt', 'r')\n",
    "o.read()\n"
   ]
  },
  {
   "cell_type": "code",
   "execution_count": 1,
   "metadata": {
    "scrolled": true
   },
   "outputs": [
    {
     "data": {
      "text/plain": [
       "'This is my first new file'"
      ]
     },
     "execution_count": 1,
     "metadata": {},
     "output_type": "execute_result"
    }
   ],
   "source": [
    "j = open('jey', 'x')\n",
    "j = open('jey', 'w')\n",
    "j.write('This is my first new file')\n",
    "j.close()\n",
    "\n",
    "j = open('jey', 'r')\n",
    "j.read()\n"
   ]
  },
  {
   "cell_type": "code",
   "execution_count": 15,
   "metadata": {},
   "outputs": [
    {
     "data": {
      "text/plain": [
       "3"
      ]
     },
     "execution_count": 15,
     "metadata": {},
     "output_type": "execute_result"
    }
   ],
   "source": [
    "import numpy as np\n",
    "np.array([1,2,3,4,5])\n",
    "np.array([[[1,2,3,4,5], [2,3,4,5,6]], [[1,2,3,4,5], [2,3,4,5,6]], [[1,2,3,4,5], [2,3,4,5,6]],[[1,2,3,4,5], [2,3,4,5,6]]]).ndim"
   ]
  }
 ],
 "metadata": {
  "kernelspec": {
   "display_name": "Python 3",
   "language": "python",
   "name": "python3"
  },
  "language_info": {
   "codemirror_mode": {
    "name": "ipython",
    "version": 3
   },
   "file_extension": ".py",
   "mimetype": "text/x-python",
   "name": "python",
   "nbconvert_exporter": "python",
   "pygments_lexer": "ipython3",
   "version": "3.7.5"
  }
 },
 "nbformat": 4,
 "nbformat_minor": 4
}
